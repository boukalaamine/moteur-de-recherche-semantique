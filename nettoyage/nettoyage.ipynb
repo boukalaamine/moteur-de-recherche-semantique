{
 "cells": [
  {
   "cell_type": "code",
   "execution_count": 10,
   "metadata": {},
   "outputs": [
    {
     "name": "stdout",
     "output_type": "stream",
     "text": [
      "**** Avant la suppression des chiffres ****\n",
      "\n",
      "If you encounter any issue and want to submit a claim, our dedicated claims team can help you anytime with our hassle-free claims process, anywhere. Just tell us what happened and we will take it from there.\n",
      "\n",
      "You can get in touch with us through various touchpoints: Fill out this form or call 800 AXA (292) and one of our customer service representatives will guide you through your claim.\n",
      "\n",
      "**** Après la suppression des chiffres ****\n",
      "\n",
      "If you encounter any issue and want to submit a claim, our dedicated claims team can help you anytime with our hassle-free claims process, anywhere. Just tell us what happened and we will take it from there.\n",
      "\n",
      "You can get in touch with us through various touchpoints: Fill out this form or call  AXA () and one of our customer service representatives will guide you through your claim.\n",
      "\n"
     ]
    }
   ],
   "source": [
    "import re\n",
    "import string \n",
    "\n",
    "f = open(\"claim\", \"r\")\n",
    "input_file = \"\"\n",
    "\n",
    "for x in f:\n",
    "  input_file = input_file + x\n",
    "\n",
    "print(\"**** Avant la suppression des chiffres ****\")\n",
    "print(\"\\n\"+input_file)\n",
    "\n",
    "#Retrait de tous les chiffres car non pertinents\n",
    "\n",
    "print(\"**** Après la suppression des chiffres ****\")\n",
    "output_file = re.sub(r'\\d+', '', input_file)\n",
    "\n",
    "print(\"\\n\"+output_file)\n",
    "\n",
    "\n",
    "\n",
    "\n",
    "\n",
    "\n"
   ]
  },
  {
   "cell_type": "code",
   "execution_count": 11,
   "metadata": {},
   "outputs": [
    {
     "name": "stdout",
     "output_type": "stream",
     "text": [
      "**** Après la suppression de la ponctuation ****\n",
      "If you encounter any issue and want to submit a claim our dedicated claims team can help you anytime with our hasslefree claims process anywhere Just tell us what happened and we will take it from there\n",
      "\n",
      "You can get in touch with us through various touchpoints Fill out this form or call  AXA  and one of our customer service representatives will guide you through your claim\n",
      "\n"
     ]
    }
   ],
   "source": [
    "#Retrait de la ponctuation car non pertinente\n",
    "\n",
    "print(\"**** Après la suppression de la ponctuation ****\")\n",
    "\n",
    "output_file = re.sub(r'[^\\w\\s]','',output_file)\n",
    "\n",
    "print(output_file)\n"
   ]
  },
  {
   "cell_type": "code",
   "execution_count": 12,
   "metadata": {},
   "outputs": [
    {
     "name": "stdout",
     "output_type": "stream",
     "text": [
      "**** Après la suppression des stop words ****\n",
      "If encounter issue want submit claim dedicated claims team help anytime hasslefree claims process anywhere Just tell us happened take You get touch us various touchpoints Fill form call AXA one customer service representatives guide claim\n"
     ]
    }
   ],
   "source": [
    "#Retrait des stop words\n",
    "\n",
    "import nltk\n",
    "from nltk.corpus import stopwords\n",
    "from nltk.tokenize import word_tokenize\n",
    "\n",
    "\n",
    "stop_words = set(stopwords.words('english'))\n",
    "tokens = word_tokenize(output_file)\n",
    "output_file= [i for i in tokens if not i in stop_words]\n",
    "\n",
    "print(\"**** Après la suppression des stop words ****\")\n",
    "output_file = ' '.join(output_file)\n",
    "print (output_file)\n"
   ]
  },
  {
   "cell_type": "code",
   "execution_count": 20,
   "metadata": {},
   "outputs": [
    {
     "name": "stdout",
     "output_type": "stream",
     "text": [
      "**** Après application du stemmer ****\n",
      "If encount issu want submit claim dedic claim team help anytim hasslefr claim process anywh just tell us happen take you get touch us variou touchpoint fill form call axa one custom servic repr guid claim \n"
     ]
    }
   ],
   "source": [
    "from nltk.stem import PorterStemmer\n",
    "from nltk.tokenize import word_tokenize\n",
    "stemmer= PorterStemmer()\n",
    "output_file=word_tokenize(output_file)\n",
    "chaine = \"\"\n",
    "for word in output_file:\n",
    "   chaine = stemmer.stem(word) + \" \" + chaine \n",
    "output_file = chaine \n",
    "print(\"**** Après application du stemmer ****\")\n",
    "print (output_file)\n"
   ]
  },
  {
   "cell_type": "code",
   "execution_count": null,
   "metadata": {
    "collapsed": true
   },
   "outputs": [],
   "source": []
  }
 ],
 "metadata": {
  "kernelspec": {
   "display_name": "Python 3",
   "language": "python",
   "name": "python3"
  },
  "language_info": {
   "codemirror_mode": {
    "name": "ipython",
    "version": 3
   },
   "file_extension": ".py",
   "mimetype": "text/x-python",
   "name": "python",
   "nbconvert_exporter": "python",
   "pygments_lexer": "ipython3",
   "version": "3.6.3"
  }
 },
 "nbformat": 4,
 "nbformat_minor": 2
}
